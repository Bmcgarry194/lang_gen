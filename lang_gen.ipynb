{
 "cells": [
  {
   "cell_type": "markdown",
   "metadata": {},
   "source": [
    "# Markov Chain Text Generation"
   ]
  },
  {
   "cell_type": "markdown",
   "metadata": {},
   "source": [
    "A brute force solution. Shannon proposed an interesting scheme to generate text according to a Markov model of order 1.\n",
    "\n",
    "To construct [an order 1 model] for example:\n",
    "1. Open a book at random and selects a letter at random on the page and record the letter. \n",
    "2. The book is then opened to another page and one reads until this letter is encountered. The succeeding letter is then recorded. \n",
    "3. Turning to another page this second letter is searched for and the succeeding letter recorded, etc. \n",
    "\n",
    "It would be interesting if further approximations could be constructed, but the labor involved becomes enormous at the next stage."
   ]
  },
  {
   "cell_type": "code",
   "execution_count": 16,
   "metadata": {},
   "outputs": [],
   "source": [
    "import numpy as np\n",
    "from typing import Dict, List\n",
    "from collections import defaultdict\n",
    "import author\n",
    "\n",
    "def read_text(path: str) -> str:    \n",
    "    with open(path) as f:\n",
    "        text = f.read().strip().lower().split()\n",
    "    return text\n",
    "\n",
    "def word_frequencies(text: str) -> Dict[str, List[str]]:\n",
    "    '''Create a dictionary defining an order 1 model of language'''\n",
    "    \n",
    "    word_freqs = defaultdict(lambda: [])\n",
    "    \n",
    "    for first_w, second_w in list(zip(text, text[1:])):\n",
    "        word_freqs[first_w].append(second_w)\n",
    "    return word_freqs\n",
    "\n",
    "def create_sentence(text: str, word_freqs: Dict[str, List[str]]) -> str:\n",
    "    \n",
    "    first_word = np.random.choice(text)\n",
    "    \n",
    "    chain = [first_word]\n",
    "\n",
    "    while not '.' in chain[-1]:\n",
    "        chain.append(np.random.choice(word_freqs[chain[-1]]))\n",
    "        \n",
    "    return ' '.join(chain)\n",
    "\n",
    "def paragraph(text: str, sentence_num: int=3) -> str:\n",
    "    \n",
    "    word_freqs = word_frequencies(text)\n",
    "    paragraph = []\n",
    "    \n",
    "    for _ in range(sentence_num):\n",
    "        paragraph.append(create_sentence(text, word_freqs))\n",
    "\n",
    "    return '\\n\\n'.join(paragraph)"
   ]
  },
  {
   "cell_type": "code",
   "execution_count": null,
   "metadata": {},
   "outputs": [],
   "source": [
    "text = read_text('data/dracula.txt')\n",
    "\n",
    "print(paragraph(text, 10))"
   ]
  },
  {
   "cell_type": "code",
   "execution_count": 38,
   "metadata": {},
   "outputs": [],
   "source": [
    "%autoreload 2"
   ]
  },
  {
   "cell_type": "code",
   "execution_count": 247,
   "metadata": {},
   "outputs": [
    {
     "data": {
      "text/plain": [
       "'going to the store.'"
      ]
     },
     "execution_count": 247,
     "metadata": {},
     "output_type": "execute_result"
    }
   ],
   "source": [
    "import author\n",
    "\n",
    "shelly = author.Author()\n",
    "\n",
    "shelly.read_text(new_text='I am going to the store. Find some beef for me.')\n",
    "\n",
    "# shelly.create_word_frequencies()\n",
    "\n",
    "shelly.create_sentence()"
   ]
  },
  {
   "cell_type": "code",
   "execution_count": 256,
   "metadata": {},
   "outputs": [
    {
     "name": "stdout",
     "output_type": "stream",
     "text": [
      "this data.\n",
      "\n",
      "more of the functionality of dictionaries.\n",
      "\n",
      "plotting data with a bar chart can be used to draw inferences about our data, and to make sense of the functionality of the plotly library.\n"
     ]
    }
   ],
   "source": [
    "print(shelly.create_paragraph(sentence_num=3))"
   ]
  },
  {
   "cell_type": "code",
   "execution_count": 249,
   "metadata": {},
   "outputs": [],
   "source": [
    "shelly.add_text(new_text='''As you've seen in recent lessons, data science leans on data visualizations to draw inferences about our data, and to make sense of the math we use in making sense of this data. We saw how plotting data with a bar chart can be used to show the relationship between x and y variables.\n",
    "\n",
    "In this lesson, we'll explore more of the functionality of the Plotly library. As we do so, pay careful attention to the data type that our methods require: whether they are dictionaries or lists, or lists of dictionaries. Ok, let's go!''')"
   ]
  },
  {
   "cell_type": "code",
   "execution_count": 254,
   "metadata": {},
   "outputs": [
    {
     "data": {
      "text/plain": [
       "defaultdict(<function author.Author.__init__.<locals>.<lambda>()>,\n",
       "            {'i': ['am'],\n",
       "             'am': ['going'],\n",
       "             'going': ['to'],\n",
       "             'to': ['the', 'draw', 'make', 'show', 'the'],\n",
       "             'the': ['store.',\n",
       "              'math',\n",
       "              'relationship',\n",
       "              'functionality',\n",
       "              'plotly',\n",
       "              'data'],\n",
       "             'store.': ['find'],\n",
       "             'find': ['some'],\n",
       "             'some': ['beef'],\n",
       "             'beef': ['for'],\n",
       "             'for': ['me.'],\n",
       "             'as': [\"you've\", 'we'],\n",
       "             \"you've\": ['seen'],\n",
       "             'seen': ['in'],\n",
       "             'in': ['recent', 'making', 'this'],\n",
       "             'recent': ['lessons,'],\n",
       "             'lessons,': ['data'],\n",
       "             'data': ['science', 'visualizations', 'with', 'type'],\n",
       "             'science': ['leans'],\n",
       "             'leans': ['on'],\n",
       "             'on': ['data'],\n",
       "             'visualizations': ['to'],\n",
       "             'draw': ['inferences'],\n",
       "             'inferences': ['about'],\n",
       "             'about': ['our'],\n",
       "             'our': ['data,', 'methods'],\n",
       "             'data,': ['and'],\n",
       "             'and': ['to', 'y'],\n",
       "             'make': ['sense'],\n",
       "             'sense': ['of', 'of'],\n",
       "             'of': ['the', 'this', 'the', 'the', 'dictionaries.'],\n",
       "             'math': ['we'],\n",
       "             'we': ['use', 'saw', 'do'],\n",
       "             'use': ['in'],\n",
       "             'making': ['sense'],\n",
       "             'this': ['data.', 'lesson,'],\n",
       "             'data.': ['we'],\n",
       "             'saw': ['how'],\n",
       "             'how': ['plotting'],\n",
       "             'plotting': ['data'],\n",
       "             'with': ['a'],\n",
       "             'a': ['bar'],\n",
       "             'bar': ['chart'],\n",
       "             'chart': ['can'],\n",
       "             'can': ['be'],\n",
       "             'be': ['used'],\n",
       "             'used': ['to'],\n",
       "             'show': ['the'],\n",
       "             'relationship': ['between'],\n",
       "             'between': ['x'],\n",
       "             'x': ['and'],\n",
       "             'y': ['variables.'],\n",
       "             'variables.': ['in'],\n",
       "             'lesson,': [\"we'll\"],\n",
       "             \"we'll\": ['explore'],\n",
       "             'explore': ['more'],\n",
       "             'more': ['of'],\n",
       "             'functionality': ['of'],\n",
       "             'plotly': ['library.'],\n",
       "             'library.': ['as'],\n",
       "             'do': ['so,'],\n",
       "             'so,': ['pay'],\n",
       "             'pay': ['careful'],\n",
       "             'careful': ['attention'],\n",
       "             'attention': ['to'],\n",
       "             'type': ['that'],\n",
       "             'that': ['our'],\n",
       "             'methods': ['require:'],\n",
       "             'require:': ['whether'],\n",
       "             'whether': ['they'],\n",
       "             'they': ['are'],\n",
       "             'are': ['dictionaries'],\n",
       "             'dictionaries': ['or'],\n",
       "             'or': ['lists,', 'lists'],\n",
       "             'lists,': ['or'],\n",
       "             'lists': ['of'],\n",
       "             'dictionaries.': ['ok,'],\n",
       "             'ok,': [\"let's\"],\n",
       "             \"let's\": ['go!']})"
      ]
     },
     "execution_count": 254,
     "metadata": {},
     "output_type": "execute_result"
    }
   ],
   "source": [
    "shelly.word_frequencies"
   ]
  },
  {
   "cell_type": "code",
   "execution_count": null,
   "metadata": {},
   "outputs": [],
   "source": []
  }
 ],
 "metadata": {
  "kernelspec": {
   "display_name": "Python 3",
   "language": "python",
   "name": "python3"
  },
  "language_info": {
   "codemirror_mode": {
    "name": "ipython",
    "version": 3
   },
   "file_extension": ".py",
   "mimetype": "text/x-python",
   "name": "python",
   "nbconvert_exporter": "python",
   "pygments_lexer": "ipython3",
   "version": "3.7.3"
  }
 },
 "nbformat": 4,
 "nbformat_minor": 2
}
