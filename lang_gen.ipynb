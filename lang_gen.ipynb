{
 "cells": [
  {
   "cell_type": "markdown",
   "metadata": {},
   "source": [
    "# Markov Chain Text Generation"
   ]
  },
  {
   "cell_type": "markdown",
   "metadata": {},
   "source": [
    "A brute force solution. Shannon proposed an interesting scheme to generate text according to a Markov model of order 1.\n",
    "\n",
    "To construct [an order 1 model] for example:\n",
    "1. Open a book at random and selects a letter at random on the page and record the letter. \n",
    "2. The book is then opened to another page and one reads until this letter is encountered. The succeeding letter is then recorded. \n",
    "3. Turning to another page this second letter is searched for and the succeeding letter recorded, etc. \n",
    "\n",
    "It would be interesting if further approximations could be constructed, but the labor involved becomes enormous at the next stage."
   ]
  },
  {
   "cell_type": "code",
   "execution_count": 2,
   "metadata": {},
   "outputs": [
    {
     "data": {
      "text/plain": [
       "\"there was a pallor the one old witches, who, being remote, would get a odd and thank god i don't see miss lucy.\""
      ]
     },
     "execution_count": 2,
     "metadata": {},
     "output_type": "execute_result"
    }
   ],
   "source": [
    "import author\n",
    "\n",
    "stoker = author.Author()\n",
    "\n",
    "stoker.read_text(path='data/dracula.txt')\n",
    "\n",
    "stoker.create_sentence()"
   ]
  },
  {
   "cell_type": "code",
   "execution_count": 4,
   "metadata": {},
   "outputs": [],
   "source": [
    "# Add another book, the critique of pur reason, to the text generator for a mix of gothic horror and \n",
    "stoker.add_text('data/pure_reason.txt')"
   ]
  },
  {
   "cell_type": "code",
   "execution_count": 5,
   "metadata": {},
   "outputs": [
    {
     "data": {
      "text/plain": [
       "'achieved a suspicious sort of the past days go with a whole night would seem to see nothing; we finished with his sugar, which seemed like giant nuts or two hours after looking back, and my house in the stone at noon.'"
      ]
     },
     "execution_count": 5,
     "metadata": {},
     "output_type": "execute_result"
    }
   ],
   "source": [
    "stoker.create_sentence()"
   ]
  },
  {
   "cell_type": "code",
   "execution_count": 7,
   "metadata": {},
   "outputs": [
    {
     "name": "stdout",
     "output_type": "stream",
     "text": [
      "smiled sweetly as she could see nothing of his note-book, and ste.\n",
      "\n",
      "soon, or harwich, or whatever may help to his right over london, and in fear of moonlight till i knew.\n",
      "\n",
      "a most interesting; if you will bring on board any binary, compressed, marked where she point over all complete.\n"
     ]
    }
   ],
   "source": [
    "print(stoker.create_paragraph())"
   ]
  }
 ],
 "metadata": {
  "kernelspec": {
   "display_name": "py36",
   "language": "python",
   "name": "py36"
  },
  "language_info": {
   "codemirror_mode": {
    "name": "ipython",
    "version": 3
   },
   "file_extension": ".py",
   "mimetype": "text/x-python",
   "name": "python",
   "nbconvert_exporter": "python",
   "pygments_lexer": "ipython3",
   "version": "3.6.8"
  }
 },
 "nbformat": 4,
 "nbformat_minor": 2
}
